{
 "cells": [
  {
   "cell_type": "code",
   "execution_count": 2,
   "metadata": {},
   "outputs": [
    {
     "name": "stdout",
     "output_type": "stream",
     "text": [
      "5\n",
      "7\n",
      "3 8\n",
      "8 1 0\n",
      "2 7 4 4\n",
      "4 5 2 6 5\n",
      "[[7], [3, 8], [8, 1, 0], [2, 7, 4, 4], [4, 5, 2, 6, 5]]\n",
      "[[7], [3, 8], [8, 1, 0], [7, 12, 10, 10], [4, 5, 2, 6, 5]]\n",
      "[[7], [3, 8], [20, 13, 10], [7, 12, 10, 10], [4, 5, 2, 6, 5]]\n",
      "[[7], [23, 21], [20, 13, 10], [7, 12, 10, 10], [4, 5, 2, 6, 5]]\n",
      "[[30], [23, 21], [20, 13, 10], [7, 12, 10, 10], [4, 5, 2, 6, 5]]\n",
      "수행 시간 : 0.000995초\n",
      "결과 : 30\n"
     ]
    }
   ],
   "source": [
    "import copy\n",
    "import time\n",
    "\n",
    "def big(a, b):\n",
    "    if a > b:\n",
    "        return a\n",
    "    else:\n",
    "        return b\n",
    "\n",
    "def calculate(tri, level):\n",
    "    for i in range(level):\n",
    "        tri[level-1][i] += big(tri[level][i], tri[level][i+1])\n",
    "    return tri;\n",
    "\n",
    "def main(tri, height):\n",
    "    for i in range(0, height):\n",
    "        print(tri)\n",
    "        tri = calculate(tri, height - i - 1)\n",
    "    return tri\n",
    "\n",
    "if __name__ == '__main__':\n",
    "    H = int(input())\n",
    "    int_triangle = []\n",
    "    for i in range(H):\n",
    "        input_ = input()\n",
    "        line = list(map(int, input_.split(' ')))\n",
    "        assert len(line) == i + 1\n",
    "        int_triangle.append(line)\n",
    "    s = time.time()\n",
    "    int_triangle = main(int_triangle, H)\n",
    "    e = time.time()\n",
    "\n",
    "    print(\"수행 시간 : {0:3.6f}초\".format(e - s))\n",
    "    print(\"결과 : {}\".format(int_triangle[0][0]))\n"
   ]
  },
  {
   "cell_type": "code",
   "execution_count": null,
   "metadata": {},
   "outputs": [],
   "source": []
  }
 ],
 "metadata": {
  "kernelspec": {
   "display_name": "Python 3",
   "language": "python",
   "name": "python3"
  },
  "language_info": {
   "codemirror_mode": {
    "name": "ipython",
    "version": 3
   },
   "file_extension": ".py",
   "mimetype": "text/x-python",
   "name": "python",
   "nbconvert_exporter": "python",
   "pygments_lexer": "ipython3",
   "version": "3.8.3"
  }
 },
 "nbformat": 4,
 "nbformat_minor": 4
}
