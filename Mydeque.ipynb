{
 "cells": [
  {
   "cell_type": "code",
   "execution_count": 19,
   "metadata": {},
   "outputs": [],
   "source": [
    "class MyDeque:\n",
    "    def __init__(self):\n",
    "        self.data = []\n",
    "\n",
    "    def func(self, inputStr):\n",
    "        if inputStr.startswith(\"push_front\"):\n",
    "            self.pushFront(int(inputStr.split()[1]))\n",
    "        elif inputStr.startswith(\"push_back\"):\n",
    "            self.pushBack(int(inputStr.split()[1]))\n",
    "        elif inputStr == (\"pop_front\"):\n",
    "            self.popFront()\n",
    "        elif inputStr == (\"pop_back\"):\n",
    "            self.popBack()\n",
    "        elif inputStr == (\"size\"):\n",
    "            self.size()\n",
    "        elif inputStr == (\"empty\"):\n",
    "            self.empty()\n",
    "        elif inputStr == (\"front\"):\n",
    "            self.front()\n",
    "        elif inputStr == (\"back\"):\n",
    "            self.back()\n",
    "        else:\n",
    "            pass\n",
    "\n",
    "    def pushFront(self, val):\n",
    "        temp = []\n",
    "        temp.append(val)\n",
    "        temp = temp + self.data\n",
    "        self.data = temp\n",
    "\n",
    "    def pushBack(self, val):\n",
    "        self.data.append(val)\n",
    "\n",
    "    def popFront(self):\n",
    "        if self.empty():\n",
    "            print(-1)\n",
    "        else:\n",
    "            print(self.data.pop(0))\n",
    "    def popBack(self):\n",
    "        if len(self.data) == 0:\n",
    "            print(-1)\n",
    "        else:\n",
    "            print(self.data.pop())\n",
    "\n",
    "    def size(self):\n",
    "        print(len(self.data))\n",
    "\n",
    "    def empty(self):\n",
    "        if(len(self.data) == 0):\n",
    "            print(1)\n",
    "        else:\n",
    "            print(0)\n",
    "\n",
    "    def front(self):\n",
    "        print(self.data[0])\n",
    "    def back(self):\n",
    "        print(self.data[len(self.data) - 1])\n",
    "\n",
    "    def __str__(self):\n",
    "        return \"mydeque(\" + str(self.data) + \")\"\n",
    "    def __repr__(self):\n",
    "        return \"mydeque(\" + str(self.data) + \")\""
   ]
  },
  {
   "cell_type": "code",
   "execution_count": 22,
   "metadata": {},
   "outputs": [
    {
     "name": "stdout",
     "output_type": "stream",
     "text": [
      "mydeque([40, 10, 20, 30])\n",
      "4\n",
      "0\n",
      "40\n",
      "30\n",
      "0\n",
      "0\n",
      "10\n",
      "20\n",
      "mydeque([10, 10, 20, 20])\n"
     ]
    },
    {
     "data": {
      "text/plain": [
       "mydeque([10, 10, 20, 20])"
      ]
     },
     "execution_count": 22,
     "metadata": {},
     "output_type": "execute_result"
    }
   ],
   "source": [
    "mydeque = MyDeque()\n",
    "mydeque.func(\"push_front 10\")\n",
    "mydeque.func(\"push_back 20\")\n",
    "mydeque.func(\"push_back 30\")\n",
    "mydeque.func(\"push_front 40\")\n",
    "print(mydeque)\n",
    "mydeque.func(\"size\")\n",
    "mydeque.func(\"pop_front\")\n",
    "mydeque.func(\"pop_back\")\n",
    "mydeque.func(\"empty\")\n",
    "mydeque.func(\"push_front 10\")\n",
    "mydeque.func(\"push_back 20\")\n",
    "mydeque.func(\"empty\")\n",
    "mydeque.func(\"front\")\n",
    "mydeque.func(\"back\")\n",
    "print(mydeque)\n",
    "mydeque"
   ]
  },
  {
   "cell_type": "code",
   "execution_count": null,
   "metadata": {},
   "outputs": [],
   "source": []
  },
  {
   "cell_type": "code",
   "execution_count": null,
   "metadata": {},
   "outputs": [],
   "source": []
  }
 ],
 "metadata": {
  "kernelspec": {
   "display_name": "Python 3",
   "language": "python",
   "name": "python3"
  },
  "language_info": {
   "codemirror_mode": {
    "name": "ipython",
    "version": 3
   },
   "file_extension": ".py",
   "mimetype": "text/x-python",
   "name": "python",
   "nbconvert_exporter": "python",
   "pygments_lexer": "ipython3",
   "version": "3.8.3"
  }
 },
 "nbformat": 4,
 "nbformat_minor": 4
}
