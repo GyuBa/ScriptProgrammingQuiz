{
 "cells": [
  {
   "cell_type": "markdown",
   "metadata": {},
   "source": [
    "### 1번문제\n",
    "---\n",
    "1000 ~ 9999 까지(1000과 9999도 계산에 포함)의 네 자리 숫자 가운데에 '10'을 포함하는 숫자의 갯수는?"
   ]
  },
  {
   "cell_type": "code",
   "execution_count": 1,
   "metadata": {},
   "outputs": [
    {
     "name": "stdout",
     "output_type": "stream",
     "text": [
      "279\n"
     ]
    }
   ],
   "source": [
    "count = 0\n",
    "for i in range(1000, 9999):\n",
    "\n",
    "    if '10' in str(i):\n",
    "        count = count + 1\n",
    "\n",
    "print(count)"
   ]
  },
  {
   "cell_type": "markdown",
   "metadata": {},
   "source": [
    "### 2번문제\n",
    "---\n",
    "10 ~ 99999 까지(10과 99999도 계산에 포함)의 숫자 가운데에 20의 배수이며 '080'을 포함하는 숫자의 갯수는?"
   ]
  },
  {
   "cell_type": "code",
   "execution_count": 2,
   "metadata": {},
   "outputs": [
    {
     "name": "stdout",
     "output_type": "stream",
     "text": [
      "108\n"
     ]
    }
   ],
   "source": [
    "count = 0\n",
    "for i in range(10, 99999):\n",
    "    if all([i % 20 == 0, '080' in str(i)]):\n",
    "        count = count + 1\n",
    "print(count)"
   ]
  },
  {
   "cell_type": "markdown",
   "metadata": {},
   "source": [
    "### 3번문제\n",
    "---\n",
    "d = {'Hospital':0, 'PostOffice':1, 'Phamacy':2, 'School':3, 'Home':4, 'Convenience':5, 'DepartmentStore':6, 'BeautySalon':7, 'Lotteria':8}는 사전 자료형이며, 각 element의 key는 건물 이름을 의미하고 value는 아래 'map'에서 건물의 위치를 의미한다. '철수'는 매일 집에서 09:00에 나와서 정확히 30분마다 인접한 건물로 이동한다고 했을 때, 18:00에 'Hospital'에 있을 확률 p(0.0 <= p <= 1.0)는 얼마인가?\n",
    "'철수'는 30분마다 꼭 인접한 건물로 이동해야하며(같은 건물에 30분을 초과하여 체류할 수 없음) 대각선에 위치한 건물로는 이동할 수 없다고 가정한다."
   ]
  },
  {
   "cell_type": "code",
   "execution_count": 1,
   "metadata": {},
   "outputs": [
    {
     "name": "stdout",
     "output_type": "stream",
     "text": [
      "p =  0.16666666666666666\n"
     ]
    }
   ],
   "source": [
    "def num(x, y, al, hour, minute,endHour, endMinute):\n",
    "    if(minute >= 60):\n",
    "        hour = hour + 1\n",
    "        minute = 0\n",
    "    if(x > 2 or x < 0):\n",
    "        return\n",
    "    elif(y > 2 or y < 0):\n",
    "        return\n",
    "    if(hour >= endHour and minute >= endMinute):\n",
    "        if x == 0 and y == 0:\n",
    "            al[1] = al[1] + 1\n",
    "        al[0] = al[0] + 1\n",
    "        return\n",
    "\n",
    "    num(x+1,y,al,hour,minute + 30, endHour, endMinute)\n",
    "    num(x, y+1, al, hour, minute + 30, endHour, endMinute)\n",
    "    num(x-1, y, al, hour, minute + 30, endHour, endMinute)\n",
    "    num(x, y-1, al, hour, minute + 30, endHour, endMinute)\n",
    "\n",
    "    return\n",
    "\n",
    "c = [0,0]\n",
    "num(1,1,c,9,0,18,0)\n",
    "print(\"p = \", (c[1] / c[0]))"
   ]
  },
  {
   "cell_type": "code",
   "execution_count": null,
   "metadata": {},
   "outputs": [],
   "source": []
  }
 ],
 "metadata": {
  "kernelspec": {
   "display_name": "Python 3",
   "language": "python",
   "name": "python3"
  },
  "language_info": {
   "codemirror_mode": {
    "name": "ipython",
    "version": 3
   },
   "file_extension": ".py",
   "mimetype": "text/x-python",
   "name": "python",
   "nbconvert_exporter": "python",
   "pygments_lexer": "ipython3",
   "version": "3.8.3"
  }
 },
 "nbformat": 4,
 "nbformat_minor": 4
}
